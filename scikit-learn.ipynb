{
 "cells": [
  {
   "cell_type": "code",
   "execution_count": 1,
   "metadata": {},
   "outputs": [],
   "source": [
    "import sklearn\n",
    "import pandas as pd\n",
    "import matplotlib.pyplot as plt\n",
    "import numpy as np\n",
    "import scipy.stats as stats\n",
    "\n",
    "%matplotlib inline"
   ]
  },
  {
   "cell_type": "markdown",
   "metadata": {},
   "source": [
    "### Prever preço de pizza\n"
   ]
  },
  {
   "cell_type": "code",
   "execution_count": 2,
   "metadata": {},
   "outputs": [],
   "source": [
    "import matplotlib.pyplot as plt\n",
    "import numpy as np\n",
    "\n",
    "%matplotlib inline"
   ]
  },
  {
   "cell_type": "code",
   "execution_count": 3,
   "metadata": {},
   "outputs": [],
   "source": [
    "d = [[7], [10], [15], [30], [45]]\n",
    "p = [[7*1.8], [10*2],  [15*2], [30*2.1], [45*1.9]]"
   ]
  },
  {
   "cell_type": "code",
   "execution_count": 4,
   "metadata": {},
   "outputs": [
    {
     "data": {
      "text/plain": [
       "[[12.6], [20], [30], [63.0], [85.5]]"
      ]
     },
     "execution_count": 4,
     "metadata": {},
     "output_type": "execute_result"
    }
   ],
   "source": [
    "p"
   ]
  },
  {
   "cell_type": "code",
   "execution_count": 5,
   "metadata": {},
   "outputs": [
    {
     "data": {
      "image/png": "[encoded data removed]",
      "text/plain": [
       "<Figure size 432x288 with 1 Axes>"
      ]
     },
     "metadata": {},
     "output_type": "display_data"
    }
   ],
   "source": [
    "\n",
    "plt.figure()\n",
    "plt.xlabel('Diametro pizza')\n",
    "plt.ylabel('Preço pizza')\n",
    "plt.title('Preço x Diamemetro')\n",
    "plt.plot(d, p)\n",
    "plt.axis([0, 90, 0, 90])\n",
    "plt.grid()\n",
    "plt.show()"
   ]
  },
  {
   "cell_type": "markdown",
   "metadata": {},
   "source": [
    "### Analise Exploratória dos dados que tenho disponivel \n",
    "eu preciso ter uma compreensão dos dados que eu tenho disponível para compreender como os dados estão expostos \n"
   ]
  },
  {
   "cell_type": "code",
   "execution_count": 6,
   "metadata": {},
   "outputs": [
    {
     "data": {
      "image/png": "[encoded data removed]",
      "text/plain": [
       "<Figure size 432x288 with 1 Axes>"
      ]
     },
     "metadata": {},
     "output_type": "display_data"
    }
   ],
   "source": [
    "plt.figure()\n",
    "plt.xlabel('Diametro pizza')\n",
    "plt.ylabel('Preço pizza')\n",
    "plt.title('Preço x Diamemetro')\n",
    "plt.plot(d, p)\n",
    "plt.axis([0, 90, 0, 90])\n",
    "plt.grid()\n",
    "plt.show()"
   ]
  },
  {
   "cell_type": "code",
   "execution_count": 7,
   "metadata": {},
   "outputs": [],
   "source": [
    "from sklearn.linear_model import LinearRegression\n"
   ]
  },
  {
   "cell_type": "code",
   "execution_count": 8,
   "metadata": {},
   "outputs": [],
   "source": [
    "x = [[7], [10], [15], [30], [45]]\n",
    "y = [[8], [11], [16], [38.5], [52]]"
   ]
  },
  {
   "cell_type": "code",
   "execution_count": 9,
   "metadata": {},
   "outputs": [],
   "source": [
    "model = LinearRegression()"
   ]
  },
  {
   "cell_type": "code",
   "execution_count": 10,
   "metadata": {},
   "outputs": [
    {
     "data": {
      "text/plain": [
       "sklearn.linear_model.base.LinearRegression"
      ]
     },
     "execution_count": 10,
     "metadata": {},
     "output_type": "execute_result"
    }
   ],
   "source": [
    "type(model)"
   ]
  },
  {
   "cell_type": "code",
   "execution_count": 11,
   "metadata": {},
   "outputs": [
    {
     "data": {
      "text/plain": [
       "LinearRegression(copy_X=True, fit_intercept=True, n_jobs=1, normalize=False)"
      ]
     },
     "execution_count": 11,
     "metadata": {},
     "output_type": "execute_result"
    }
   ],
   "source": [
    "x = d\n",
    "y = p\n",
    "model.fit(x, y)"
   ]
  },
  {
   "cell_type": "code",
   "execution_count": 12,
   "metadata": {},
   "outputs": [
    {
     "name": "stdout",
     "output_type": "stream",
     "text": [
      "Coeficiente [[1.94030916]]\n",
      "Mean SQUARE ERROR (MSE)5.186444708680144\n",
      "score de variação ou melhor correlação da variável x com y 0.9932209859173285\n"
     ]
    }
   ],
   "source": [
    "# Coeficiente\n",
    "print(f'Coeficiente {model.coef_}')\n",
    "# Mean\n",
    "print(f'Mean SQUARE ERROR (MSE){np.mean((model.predict(x)- y)**2)}')\n",
    "print(f'score de variação ou melhor correlação da variável x com y {model.score(x, y)}')"
   ]
  },
  {
   "cell_type": "code",
   "execution_count": 13,
   "metadata": {},
   "outputs": [
    {
     "data": {
      "text/plain": [
       "array([[39.50356718]])"
      ]
     },
     "execution_count": 13,
     "metadata": {},
     "output_type": "execute_result"
    }
   ],
   "source": [
    "model.predict([20][0])"
   ]
  },
  {
   "cell_type": "code",
   "execution_count": 14,
   "metadata": {},
   "outputs": [
    {
     "name": "stdout",
     "output_type": "stream",
     "text": [
      "[[39.7994041]]\n"
     ]
    }
   ],
   "source": [
    "# CALCULO COMO É FEITO\n",
    "# Y = A + BX\n",
    "# falta encontontrar o valor de para o calculo fechar\n",
    "pre = model.score(x, y) + 20 * model.coef_\n",
    "print(pre)"
   ]
  },
  {
   "cell_type": "code",
   "execution_count": 15,
   "metadata": {},
   "outputs": [
    {
     "ename": "SyntaxError",
     "evalue": "invalid syntax (<ipython-input-15-51da195f42cb>, line 1)",
     "output_type": "error",
     "traceback": [
      "\u001b[0;36m  File \u001b[0;32m\"<ipython-input-15-51da195f42cb>\"\u001b[0;36m, line \u001b[0;32m1\u001b[0m\n\u001b[0;31m    b =\u001b[0m\n\u001b[0m        ^\u001b[0m\n\u001b[0;31mSyntaxError\u001b[0m\u001b[0;31m:\u001b[0m invalid syntax\n"
     ]
    }
   ],
   "source": [
    "b = "
   ]
  },
  {
   "cell_type": "code",
   "execution_count": 16,
   "metadata": {},
   "outputs": [
    {
     "data": {
      "text/plain": [
       "array([[39.50356718]])"
      ]
     },
     "execution_count": 16,
     "metadata": {},
     "output_type": "execute_result"
    }
   ],
   "source": [
    "model.predict([20][0])"
   ]
  },
  {
   "cell_type": "code",
   "execution_count": 17,
   "metadata": {},
   "outputs": [
    {
     "name": "stdout",
     "output_type": "stream",
     "text": [
      "Coeficiente [[1.94030916]]\n",
      "Mean SQUARE ERROR (MSE)5.186444708680144\n",
      "score de variação 0.9932209859173285\n"
     ]
    }
   ],
   "source": [
    "# Coeficiente\n",
    "print(f'Coeficiente {model.coef_}')\n",
    "# Mean\n",
    "print(f'Mean SQUARE ERROR (MSE){np.mean((model.predict(x)- y)**2)}')\n",
    "print(f'score de variação {model.score(x, y)}')"
   ]
  },
  {
   "cell_type": "code",
   "execution_count": 18,
   "metadata": {},
   "outputs": [
    {
     "name": "stdout",
     "output_type": "stream",
     "text": [
      "Predição pizza 20 centimetros [[39.50356718]]\n",
      "Coeficiente [[1.94030916]]\n",
      "Mean SQUARE ERROR (MSE)5.186444708680144\n",
      "score de variação 0.9932209859173285\n"
     ]
    }
   ],
   "source": [
    "model.fit(d, p)\n",
    "print(f'Predição pizza 20 centimetros { model.predict([20][0])}')\n",
    "# Coeficiente\n",
    "print(f'Coeficiente {model.coef_}')\n",
    "# Mean\n",
    "print(f'Mean SQUARE ERROR (MSE){np.mean((model.predict(d)- p)**2)}')\n",
    "print(f'score de variação {model.score(d, p)}')\n"
   ]
  },
  {
   "cell_type": "code",
   "execution_count": 19,
   "metadata": {},
   "outputs": [
    {
     "data": {
      "image/png": "[encoded data removed]",
      "text/plain": [
       "<Figure size 432x288 with 1 Axes>"
      ]
     },
     "metadata": {},
     "output_type": "display_data"
    }
   ],
   "source": [
    "# scatter plot\n",
    "plt.scatter(x, y, color='Black')\n",
    "plt.plot(x, model.predict(y), color='Blue', linewidth=3)\n",
    "plt.xlabel('Diamentro')\n",
    "plt.ylabel('Preço')\n",
    "plt.xticks(())\n",
    "plt.yticks(())\n",
    "plt.show()"
   ]
  },
  {
   "cell_type": "markdown",
   "metadata": {},
   "source": [
    "### Calculando o preço de imóveis "
   ]
  },
  {
   "cell_type": "code",
   "execution_count": 3,
   "metadata": {},
   "outputs": [],
   "source": [
    "from sklearn.datasets import load_boston"
   ]
  },
  {
   "cell_type": "code",
   "execution_count": 5,
   "metadata": {},
   "outputs": [
    {
     "data": {
      "text/plain": [
       "(506, 13)"
      ]
     },
     "execution_count": 5,
     "metadata": {},
     "output_type": "execute_result"
    }
   ],
   "source": [
    "boston = load_boston()\n",
    "boston.data.shape"
   ]
  },
  {
   "cell_type": "code",
   "execution_count": 6,
   "metadata": {},
   "outputs": [
    {
     "name": "stdout",
     "output_type": "stream",
     "text": [
      "Boston House Prices dataset\n",
      "===========================\n",
      "\n",
      "Notes\n",
      "------\n",
      "Data Set Characteristics:  \n",
      "\n",
      "    :Number of Instances: 506 \n",
      "\n",
      "    :Number of Attributes: 13 numeric/categorical predictive\n",
      "    \n",
      "    :Median Value (attribute 14) is usually the target\n",
      "\n",
      "    :Attribute Information (in order):\n",
      "        - CRIM     per capita crime rate by town\n",
      "        - ZN       proportion of residential land zoned for lots over 25,000 sq.ft.\n",
      "        - INDUS    proportion of non-retail business acres per town\n",
      "        - CHAS     Charles River dummy variable (= 1 if tract bounds river; 0 otherwise)\n",
      "        - NOX      nitric oxides concentration (parts per 10 million)\n",
      "        - RM       average number of rooms per dwelling\n",
      "        - AGE      proportion of owner-occupied units built prior to 1940\n",
      "        - DIS      weighted distances to five Boston employment centres\n",
      "        - RAD      index of accessibility to radial highways\n",
      "        - TAX      full-value property-tax rate per $10,000\n",
      "        - PTRATIO  pupil-teacher ratio by town\n",
      "        - B        1000(Bk - 0.63)^2 where Bk is the proportion of blacks by town\n",
      "        - LSTAT    % lower status of the population\n",
      "        - MEDV     Median value of owner-occupied homes in $1000's\n",
      "\n",
      "    :Missing Attribute Values: None\n",
      "\n",
      "    :Creator: Harrison, D. and Rubinfeld, D.L.\n",
      "\n",
      "This is a copy of UCI ML housing dataset.\n",
      "http://archive.ics.uci.edu/ml/datasets/Housing\n",
      "\n",
      "\n",
      "This dataset was taken from the StatLib library which is maintained at Carnegie Mellon University.\n",
      "\n",
      "The Boston house-price data of Harrison, D. and Rubinfeld, D.L. 'Hedonic\n",
      "prices and the demand for clean air', J. Environ. Economics & Management,\n",
      "vol.5, 81-102, 1978.   Used in Belsley, Kuh & Welsch, 'Regression diagnostics\n",
      "...', Wiley, 1980.   N.B. Various transformations are used in the table on\n",
      "pages 244-261 of the latter.\n",
      "\n",
      "The Boston house-price data has been used in many machine learning papers that address regression\n",
      "problems.   \n",
      "     \n",
      "**References**\n",
      "\n",
      "   - Belsley, Kuh & Welsch, 'Regression diagnostics: Identifying Influential Data and Sources of Collinearity', Wiley, 1980. 244-261.\n",
      "   - Quinlan,R. (1993). Combining Instance-Based and Model-Based Learning. In Proceedings on the Tenth International Conference of Machine Learning, 236-243, University of Massachusetts, Amherst. Morgan Kaufmann.\n",
      "   - many more! (see http://archive.ics.uci.edu/ml/datasets/Housing)\n",
      "\n"
     ]
    }
   ],
   "source": [
    "print(boston.DESCR)"
   ]
  },
  {
   "cell_type": "code",
   "execution_count": 7,
   "metadata": {},
   "outputs": [],
   "source": [
    "df = pd.DataFrame(boston.data)"
   ]
  },
  {
   "cell_type": "code",
   "execution_count": 24,
   "metadata": {},
   "outputs": [
    {
     "data": {
      "text/html": [
       "<div>\n",
       "<style scoped>\n",
       "    .dataframe tbody tr th:only-of-type {\n",
       "        vertical-align: middle;\n",
       "    }\n",
       "\n",
       "    .dataframe tbody tr th {\n",
       "        vertical-align: top;\n",
       "    }\n",
       "\n",
       "    .dataframe thead th {\n",
       "        text-align: right;\n",
       "    }\n",
       "</style>\n",
       "<table border=\"1\" class=\"dataframe\">\n",
       "  <thead>\n",
       "    <tr style=\"text-align: right;\">\n",
       "      <th></th>\n",
       "      <th>0</th>\n",
       "      <th>1</th>\n",
       "      <th>2</th>\n",
       "      <th>3</th>\n",
       "      <th>4</th>\n",
       "      <th>5</th>\n",
       "      <th>6</th>\n",
       "      <th>7</th>\n",
       "      <th>8</th>\n",
       "      <th>9</th>\n",
       "      <th>10</th>\n",
       "      <th>11</th>\n",
       "      <th>12</th>\n",
       "    </tr>\n",
       "  </thead>\n",
       "  <tbody>\n",
       "    <tr>\n",
       "      <th>0</th>\n",
       "      <td>0.00632</td>\n",
       "      <td>18.0</td>\n",
       "      <td>2.31</td>\n",
       "      <td>0.0</td>\n",
       "      <td>0.538</td>\n",
       "      <td>6.575</td>\n",
       "      <td>65.2</td>\n",
       "      <td>4.0900</td>\n",
       "      <td>1.0</td>\n",
       "      <td>296.0</td>\n",
       "      <td>15.3</td>\n",
       "      <td>396.90</td>\n",
       "      <td>4.98</td>\n",
       "    </tr>\n",
       "    <tr>\n",
       "      <th>1</th>\n",
       "      <td>0.02731</td>\n",
       "      <td>0.0</td>\n",
       "      <td>7.07</td>\n",
       "      <td>0.0</td>\n",
       "      <td>0.469</td>\n",
       "      <td>6.421</td>\n",
       "      <td>78.9</td>\n",
       "      <td>4.9671</td>\n",
       "      <td>2.0</td>\n",
       "      <td>242.0</td>\n",
       "      <td>17.8</td>\n",
       "      <td>396.90</td>\n",
       "      <td>9.14</td>\n",
       "    </tr>\n",
       "    <tr>\n",
       "      <th>2</th>\n",
       "      <td>0.02729</td>\n",
       "      <td>0.0</td>\n",
       "      <td>7.07</td>\n",
       "      <td>0.0</td>\n",
       "      <td>0.469</td>\n",
       "      <td>7.185</td>\n",
       "      <td>61.1</td>\n",
       "      <td>4.9671</td>\n",
       "      <td>2.0</td>\n",
       "      <td>242.0</td>\n",
       "      <td>17.8</td>\n",
       "      <td>392.83</td>\n",
       "      <td>4.03</td>\n",
       "    </tr>\n",
       "    <tr>\n",
       "      <th>3</th>\n",
       "      <td>0.03237</td>\n",
       "      <td>0.0</td>\n",
       "      <td>2.18</td>\n",
       "      <td>0.0</td>\n",
       "      <td>0.458</td>\n",
       "      <td>6.998</td>\n",
       "      <td>45.8</td>\n",
       "      <td>6.0622</td>\n",
       "      <td>3.0</td>\n",
       "      <td>222.0</td>\n",
       "      <td>18.7</td>\n",
       "      <td>394.63</td>\n",
       "      <td>2.94</td>\n",
       "    </tr>\n",
       "    <tr>\n",
       "      <th>4</th>\n",
       "      <td>0.06905</td>\n",
       "      <td>0.0</td>\n",
       "      <td>2.18</td>\n",
       "      <td>0.0</td>\n",
       "      <td>0.458</td>\n",
       "      <td>7.147</td>\n",
       "      <td>54.2</td>\n",
       "      <td>6.0622</td>\n",
       "      <td>3.0</td>\n",
       "      <td>222.0</td>\n",
       "      <td>18.7</td>\n",
       "      <td>396.90</td>\n",
       "      <td>5.33</td>\n",
       "    </tr>\n",
       "  </tbody>\n",
       "</table>\n",
       "</div>"
      ],
      "text/plain": [
       "        0     1     2    3      4      5     6       7    8      9     10  \\\n",
       "0  0.00632  18.0  2.31  0.0  0.538  6.575  65.2  4.0900  1.0  296.0  15.3   \n",
       "1  0.02731   0.0  7.07  0.0  0.469  6.421  78.9  4.9671  2.0  242.0  17.8   \n",
       "2  0.02729   0.0  7.07  0.0  0.469  7.185  61.1  4.9671  2.0  242.0  17.8   \n",
       "3  0.03237   0.0  2.18  0.0  0.458  6.998  45.8  6.0622  3.0  222.0  18.7   \n",
       "4  0.06905   0.0  2.18  0.0  0.458  7.147  54.2  6.0622  3.0  222.0  18.7   \n",
       "\n",
       "       11    12  \n",
       "0  396.90  4.98  \n",
       "1  396.90  9.14  \n",
       "2  392.83  4.03  \n",
       "3  394.63  2.94  \n",
       "4  396.90  5.33  "
      ]
     },
     "execution_count": 24,
     "metadata": {},
     "output_type": "execute_result"
    }
   ],
   "source": [
    "df.head()"
   ]
  },
  {
   "cell_type": "code",
   "execution_count": 25,
   "metadata": {},
   "outputs": [],
   "source": [
    "df.columns = boston.feature_names"
   ]
  },
  {
   "cell_type": "code",
   "execution_count": 26,
   "metadata": {},
   "outputs": [
    {
     "data": {
      "text/plain": [
       "array([24. , 21.6, 34.7, 33.4, 36.2, 28.7, 22.9, 27.1, 16.5, 18.9, 15. ,\n",
       "       18.9, 21.7, 20.4, 18.2, 19.9, 23.1, 17.5, 20.2, 18.2, 13.6, 19.6,\n",
       "       15.2, 14.5, 15.6, 13.9, 16.6, 14.8, 18.4, 21. , 12.7, 14.5, 13.2,\n",
       "       13.1, 13.5, 18.9, 20. , 21. , 24.7, 30.8, 34.9, 26.6, 25.3, 24.7,\n",
       "       21.2, 19.3, 20. , 16.6, 14.4, 19.4, 19.7, 20.5, 25. , 23.4, 18.9,\n",
       "       35.4, 24.7, 31.6, 23.3, 19.6, 18.7, 16. , 22.2, 25. , 33. , 23.5,\n",
       "       19.4, 22. , 17.4, 20.9, 24.2, 21.7, 22.8, 23.4, 24.1, 21.4, 20. ,\n",
       "       20.8, 21.2, 20.3, 28. , 23.9, 24.8, 22.9, 23.9, 26.6, 22.5, 22.2,\n",
       "       23.6, 28.7, 22.6, 22. , 22.9, 25. , 20.6, 28.4, 21.4, 38.7, 43.8,\n",
       "       33.2, 27.5, 26.5, 18.6, 19.3, 20.1, 19.5, 19.5, 20.4, 19.8, 19.4,\n",
       "       21.7, 22.8, 18.8, 18.7, 18.5, 18.3, 21.2, 19.2, 20.4, 19.3, 22. ,\n",
       "       20.3, 20.5, 17.3, 18.8, 21.4, 15.7, 16.2, 18. , 14.3, 19.2, 19.6,\n",
       "       23. , 18.4, 15.6, 18.1, 17.4, 17.1, 13.3, 17.8, 14. , 14.4, 13.4,\n",
       "       15.6, 11.8, 13.8, 15.6, 14.6, 17.8, 15.4, 21.5, 19.6, 15.3, 19.4,\n",
       "       17. , 15.6, 13.1, 41.3, 24.3, 23.3, 27. , 50. , 50. , 50. , 22.7,\n",
       "       25. , 50. , 23.8, 23.8, 22.3, 17.4, 19.1, 23.1, 23.6, 22.6, 29.4,\n",
       "       23.2, 24.6, 29.9, 37.2, 39.8, 36.2, 37.9, 32.5, 26.4, 29.6, 50. ,\n",
       "       32. , 29.8, 34.9, 37. , 30.5, 36.4, 31.1, 29.1, 50. , 33.3, 30.3,\n",
       "       34.6, 34.9, 32.9, 24.1, 42.3, 48.5, 50. , 22.6, 24.4, 22.5, 24.4,\n",
       "       20. , 21.7, 19.3, 22.4, 28.1, 23.7, 25. , 23.3, 28.7, 21.5, 23. ,\n",
       "       26.7, 21.7, 27.5, 30.1, 44.8, 50. , 37.6, 31.6, 46.7, 31.5, 24.3,\n",
       "       31.7, 41.7, 48.3, 29. , 24. , 25.1, 31.5, 23.7, 23.3, 22. , 20.1,\n",
       "       22.2, 23.7, 17.6, 18.5, 24.3, 20.5, 24.5, 26.2, 24.4, 24.8, 29.6,\n",
       "       42.8, 21.9, 20.9, 44. , 50. , 36. , 30.1, 33.8, 43.1, 48.8, 31. ,\n",
       "       36.5, 22.8, 30.7, 50. , 43.5, 20.7, 21.1, 25.2, 24.4, 35.2, 32.4,\n",
       "       32. , 33.2, 33.1, 29.1, 35.1, 45.4, 35.4, 46. , 50. , 32.2, 22. ,\n",
       "       20.1, 23.2, 22.3, 24.8, 28.5, 37.3, 27.9, 23.9, 21.7, 28.6, 27.1,\n",
       "       20.3, 22.5, 29. , 24.8, 22. , 26.4, 33.1, 36.1, 28.4, 33.4, 28.2,\n",
       "       22.8, 20.3, 16.1, 22.1, 19.4, 21.6, 23.8, 16.2, 17.8, 19.8, 23.1,\n",
       "       21. , 23.8, 23.1, 20.4, 18.5, 25. , 24.6, 23. , 22.2, 19.3, 22.6,\n",
       "       19.8, 17.1, 19.4, 22.2, 20.7, 21.1, 19.5, 18.5, 20.6, 19. , 18.7,\n",
       "       32.7, 16.5, 23.9, 31.2, 17.5, 17.2, 23.1, 24.5, 26.6, 22.9, 24.1,\n",
       "       18.6, 30.1, 18.2, 20.6, 17.8, 21.7, 22.7, 22.6, 25. , 19.9, 20.8,\n",
       "       16.8, 21.9, 27.5, 21.9, 23.1, 50. , 50. , 50. , 50. , 50. , 13.8,\n",
       "       13.8, 15. , 13.9, 13.3, 13.1, 10.2, 10.4, 10.9, 11.3, 12.3,  8.8,\n",
       "        7.2, 10.5,  7.4, 10.2, 11.5, 15.1, 23.2,  9.7, 13.8, 12.7, 13.1,\n",
       "       12.5,  8.5,  5. ,  6.3,  5.6,  7.2, 12.1,  8.3,  8.5,  5. , 11.9,\n",
       "       27.9, 17.2, 27.5, 15. , 17.2, 17.9, 16.3,  7. ,  7.2,  7.5, 10.4,\n",
       "        8.8,  8.4, 16.7, 14.2, 20.8, 13.4, 11.7,  8.3, 10.2, 10.9, 11. ,\n",
       "        9.5, 14.5, 14.1, 16.1, 14.3, 11.7, 13.4,  9.6,  8.7,  8.4, 12.8,\n",
       "       10.5, 17.1, 18.4, 15.4, 10.8, 11.8, 14.9, 12.6, 14.1, 13. , 13.4,\n",
       "       15.2, 16.1, 17.8, 14.9, 14.1, 12.7, 13.5, 14.9, 20. , 16.4, 17.7,\n",
       "       19.5, 20.2, 21.4, 19.9, 19. , 19.1, 19.1, 20.1, 19.9, 19.6, 23.2,\n",
       "       29.8, 13.8, 13.3, 16.7, 12. , 14.6, 21.4, 23. , 23.7, 25. , 21.8,\n",
       "       20.6, 21.2, 19.1, 20.6, 15.2,  7. ,  8.1, 13.6, 20.1, 21.8, 24.5,\n",
       "       23.1, 19.7, 18.3, 21.2, 17.5, 16.8, 22.4, 20.6, 23.9, 22. , 11.9])"
      ]
     },
     "execution_count": 26,
     "metadata": {},
     "output_type": "execute_result"
    }
   ],
   "source": [
    "boston.target\n"
   ]
  },
  {
   "cell_type": "code",
   "execution_count": 8,
   "metadata": {},
   "outputs": [
    {
     "data": {
      "text/html": [
       "<div>\n",
       "<style scoped>\n",
       "    .dataframe tbody tr th:only-of-type {\n",
       "        vertical-align: middle;\n",
       "    }\n",
       "\n",
       "    .dataframe tbody tr th {\n",
       "        vertical-align: top;\n",
       "    }\n",
       "\n",
       "    .dataframe thead th {\n",
       "        text-align: right;\n",
       "    }\n",
       "</style>\n",
       "<table border=\"1\" class=\"dataframe\">\n",
       "  <thead>\n",
       "    <tr style=\"text-align: right;\">\n",
       "      <th></th>\n",
       "      <th>0</th>\n",
       "      <th>1</th>\n",
       "      <th>2</th>\n",
       "      <th>3</th>\n",
       "      <th>4</th>\n",
       "      <th>5</th>\n",
       "      <th>6</th>\n",
       "      <th>7</th>\n",
       "      <th>8</th>\n",
       "      <th>9</th>\n",
       "      <th>10</th>\n",
       "      <th>11</th>\n",
       "      <th>12</th>\n",
       "      <th>PRICE</th>\n",
       "    </tr>\n",
       "  </thead>\n",
       "  <tbody>\n",
       "    <tr>\n",
       "      <th>0</th>\n",
       "      <td>0.00632</td>\n",
       "      <td>18.0</td>\n",
       "      <td>2.31</td>\n",
       "      <td>0.0</td>\n",
       "      <td>0.538</td>\n",
       "      <td>6.575</td>\n",
       "      <td>65.2</td>\n",
       "      <td>4.0900</td>\n",
       "      <td>1.0</td>\n",
       "      <td>296.0</td>\n",
       "      <td>15.3</td>\n",
       "      <td>396.90</td>\n",
       "      <td>4.98</td>\n",
       "      <td>24.0</td>\n",
       "    </tr>\n",
       "    <tr>\n",
       "      <th>1</th>\n",
       "      <td>0.02731</td>\n",
       "      <td>0.0</td>\n",
       "      <td>7.07</td>\n",
       "      <td>0.0</td>\n",
       "      <td>0.469</td>\n",
       "      <td>6.421</td>\n",
       "      <td>78.9</td>\n",
       "      <td>4.9671</td>\n",
       "      <td>2.0</td>\n",
       "      <td>242.0</td>\n",
       "      <td>17.8</td>\n",
       "      <td>396.90</td>\n",
       "      <td>9.14</td>\n",
       "      <td>21.6</td>\n",
       "    </tr>\n",
       "    <tr>\n",
       "      <th>2</th>\n",
       "      <td>0.02729</td>\n",
       "      <td>0.0</td>\n",
       "      <td>7.07</td>\n",
       "      <td>0.0</td>\n",
       "      <td>0.469</td>\n",
       "      <td>7.185</td>\n",
       "      <td>61.1</td>\n",
       "      <td>4.9671</td>\n",
       "      <td>2.0</td>\n",
       "      <td>242.0</td>\n",
       "      <td>17.8</td>\n",
       "      <td>392.83</td>\n",
       "      <td>4.03</td>\n",
       "      <td>34.7</td>\n",
       "    </tr>\n",
       "    <tr>\n",
       "      <th>3</th>\n",
       "      <td>0.03237</td>\n",
       "      <td>0.0</td>\n",
       "      <td>2.18</td>\n",
       "      <td>0.0</td>\n",
       "      <td>0.458</td>\n",
       "      <td>6.998</td>\n",
       "      <td>45.8</td>\n",
       "      <td>6.0622</td>\n",
       "      <td>3.0</td>\n",
       "      <td>222.0</td>\n",
       "      <td>18.7</td>\n",
       "      <td>394.63</td>\n",
       "      <td>2.94</td>\n",
       "      <td>33.4</td>\n",
       "    </tr>\n",
       "    <tr>\n",
       "      <th>4</th>\n",
       "      <td>0.06905</td>\n",
       "      <td>0.0</td>\n",
       "      <td>2.18</td>\n",
       "      <td>0.0</td>\n",
       "      <td>0.458</td>\n",
       "      <td>7.147</td>\n",
       "      <td>54.2</td>\n",
       "      <td>6.0622</td>\n",
       "      <td>3.0</td>\n",
       "      <td>222.0</td>\n",
       "      <td>18.7</td>\n",
       "      <td>396.90</td>\n",
       "      <td>5.33</td>\n",
       "      <td>36.2</td>\n",
       "    </tr>\n",
       "  </tbody>\n",
       "</table>\n",
       "</div>"
      ],
      "text/plain": [
       "         0     1     2    3      4      5     6       7    8      9    10  \\\n",
       "0  0.00632  18.0  2.31  0.0  0.538  6.575  65.2  4.0900  1.0  296.0  15.3   \n",
       "1  0.02731   0.0  7.07  0.0  0.469  6.421  78.9  4.9671  2.0  242.0  17.8   \n",
       "2  0.02729   0.0  7.07  0.0  0.469  7.185  61.1  4.9671  2.0  242.0  17.8   \n",
       "3  0.03237   0.0  2.18  0.0  0.458  6.998  45.8  6.0622  3.0  222.0  18.7   \n",
       "4  0.06905   0.0  2.18  0.0  0.458  7.147  54.2  6.0622  3.0  222.0  18.7   \n",
       "\n",
       "       11    12  PRICE  \n",
       "0  396.90  4.98   24.0  \n",
       "1  396.90  9.14   21.6  \n",
       "2  392.83  4.03   34.7  \n",
       "3  394.63  2.94   33.4  \n",
       "4  396.90  5.33   36.2  "
      ]
     },
     "execution_count": 8,
     "metadata": {},
     "output_type": "execute_result"
    }
   ],
   "source": [
    "df['PRICE'] = boston.target\n",
    "df.head()"
   ]
  },
  {
   "cell_type": "code",
   "execution_count": 9,
   "metadata": {},
   "outputs": [],
   "source": [
    "from sklearn.linear_model import LinearRegression\n",
    "X  = df.drop('PRICE', axis=1)\n",
    "Y = df['PRICE']"
   ]
  },
  {
   "cell_type": "code",
   "execution_count": 11,
   "metadata": {},
   "outputs": [
    {
     "data": {
      "text/plain": [
       "(506, 13)"
      ]
     },
     "execution_count": 11,
     "metadata": {},
     "output_type": "execute_result"
    }
   ],
   "source": [
    "X.shape\n"
   ]
  },
  {
   "cell_type": "code",
   "execution_count": 14,
   "metadata": {},
   "outputs": [
    {
     "data": {
      "text/plain": [
       "pandas.core.frame.DataFrame"
      ]
     },
     "execution_count": 14,
     "metadata": {},
     "output_type": "execute_result"
    }
   ],
   "source": [
    "type(X)"
   ]
  },
  {
   "cell_type": "code",
   "execution_count": 29,
   "metadata": {},
   "outputs": [
    {
     "data": {
      "image/png": "[encoded data removed]",
      "text/plain": [
       "<Figure size 432x288 with 1 Axes>"
      ]
     },
     "metadata": {},
     "output_type": "display_data"
    }
   ],
   "source": [
    "plt.scatter(df.RM, Y)\n",
    "plt.xlabel('Média de numero de quarto por preço')\n",
    "plt.ylabel('Preço da casa')\n",
    "plt.title('Relação numeros de quartos')\n",
    "plt.show()"
   ]
  },
  {
   "cell_type": "code",
   "execution_count": 30,
   "metadata": {},
   "outputs": [],
   "source": [
    "regr = LinearRegression()"
   ]
  },
  {
   "cell_type": "code",
   "execution_count": 31,
   "metadata": {},
   "outputs": [
    {
     "data": {
      "text/plain": [
       "LinearRegression(copy_X=True, fit_intercept=True, n_jobs=1, normalize=False)"
      ]
     },
     "execution_count": 31,
     "metadata": {},
     "output_type": "execute_result"
    }
   ],
   "source": [
    "regr.fit(X, Y)"
   ]
  },
  {
   "cell_type": "code",
   "execution_count": 32,
   "metadata": {},
   "outputs": [
    {
     "name": "stdout",
     "output_type": "stream",
     "text": [
      "Coêficiente 36.49110328036135\n",
      "n coeficiente 13\n"
     ]
    }
   ],
   "source": [
    "# imprimindo os coêficientes\n",
    "print(f'Coêficiente {regr.intercept_}')\n",
    "print(f'n coeficiente {len(regr.coef_)}')"
   ]
  },
  {
   "cell_type": "code",
   "execution_count": 33,
   "metadata": {},
   "outputs": [
    {
     "data": {
      "text/plain": [
       "array([30.00821269, 25.0298606 , 30.5702317 , 28.60814055, 27.94288232,\n",
       "       25.25940048, 23.00433994, 19.5347558 , 11.51696539, 18.91981483,\n",
       "       18.9958266 , 21.58970854, 20.90534851, 19.55535931, 19.2837957 ,\n",
       "       19.30000174, 20.52889993, 16.9096749 , 16.17067411, 18.40781636,\n",
       "       12.52040454, 17.67104565, 15.82934891, 13.80368317, 15.67708138,\n",
       "       13.3791645 , 15.46258829, 14.69863607, 19.54518512, 20.87309945,\n",
       "       11.44806825, 18.05900412,  8.78841666, 14.27882319, 13.69097132,\n",
       "       23.81755469, 22.34216285, 23.11123204, 22.91494157, 31.35826216,\n",
       "       34.21485385, 28.0207132 , 25.20646572, 24.61192851, 22.94438953,\n",
       "       22.10150945, 20.42467417, 18.03614022,  9.10176198, 17.20856571,\n",
       "       21.28259372, 23.97621248, 27.65853521, 24.0521088 , 15.35989132,\n",
       "       31.14817003, 24.85878746, 33.11017111, 21.77458036, 21.08526739,\n",
       "       17.87203538, 18.50881381, 23.9879809 , 22.54944098, 23.37068403,\n",
       "       30.36557584, 25.53407332, 21.11758504, 17.42468223, 20.7893086 ,\n",
       "       25.20349174, 21.74490595, 24.56275612, 24.04479519, 25.5091157 ,\n",
       "       23.97076758, 22.94823519, 23.36106095, 21.26432549, 22.4345376 ,\n",
       "       28.40699937, 26.99734716, 26.03807246, 25.06152125, 24.7858613 ,\n",
       "       27.79291889, 22.16927073, 25.89685664, 30.67771522, 30.83225886,\n",
       "       27.12127354, 27.41597825, 28.9456478 , 29.08668003, 27.04501726,\n",
       "       28.62506705, 24.73038218, 35.78062378, 35.11269515, 32.25115468,\n",
       "       24.57946786, 25.59386215, 19.76439137, 20.31157117, 21.4353635 ,\n",
       "       18.53971968, 17.18572611, 20.74934949, 22.64791346, 19.77000977,\n",
       "       20.64745349, 26.52652691, 20.77440554, 20.71546432, 25.17461484,\n",
       "       20.4273652 , 23.37862521, 23.69454145, 20.33202239, 20.79378139,\n",
       "       21.92024414, 22.47432006, 20.55884635, 16.36300764, 20.56342111,\n",
       "       22.48570454, 14.61264839, 15.1802607 , 18.93828443, 14.0574955 ,\n",
       "       20.03651959, 19.41306288, 20.06401034, 15.76005772, 13.24771577,\n",
       "       17.26167729, 15.87759672, 19.36145104, 13.81270814, 16.44782934,\n",
       "       13.56511101,  3.98343974, 14.59241207, 12.14503093,  8.72407108,\n",
       "       12.00815659, 15.80308586,  8.50963929,  9.70965512, 14.79848067,\n",
       "       20.83598096, 18.30017013, 20.12575267, 17.27585681, 22.35997992,\n",
       "       20.07985184, 13.59903744, 33.26635221, 29.03938379, 25.56694529,\n",
       "       32.71732164, 36.78111388, 40.56615533, 41.85122271, 24.79875684,\n",
       "       25.3771545 , 37.20662185, 23.08244608, 26.40326834, 26.65647433,\n",
       "       22.55412919, 24.2970948 , 22.98024802, 29.07488389, 26.52620066,\n",
       "       30.72351225, 25.61835359, 29.14203283, 31.43690634, 32.9232938 ,\n",
       "       34.72096487, 27.76792733, 33.88992899, 30.99725805, 22.72124288,\n",
       "       24.76567683, 35.88131719, 33.42696242, 32.41513625, 34.51611818,\n",
       "       30.76057666, 30.29169893, 32.92040221, 32.11459912, 31.56133385,\n",
       "       40.84274603, 36.13046343, 32.66639271, 34.70558647, 30.09276228,\n",
       "       30.64139724, 29.29189704, 37.07062623, 42.02879611, 43.18582722,\n",
       "       22.6923888 , 23.68420569, 17.85435295, 23.49543857, 17.00872418,\n",
       "       22.39535066, 17.06152243, 22.74106824, 25.21974252, 11.10601161,\n",
       "       24.51300617, 26.60749026, 28.35802444, 24.91860458, 29.69254951,\n",
       "       33.18492755, 23.77145523, 32.14086508, 29.74802362, 38.36605632,\n",
       "       39.80716458, 37.58362546, 32.39769704, 35.45048257, 31.23446481,\n",
       "       24.48478321, 33.28615723, 38.04368164, 37.15737267, 31.71297469,\n",
       "       25.26658017, 30.101515  , 32.71897655, 28.42735376, 28.42999168,\n",
       "       27.2913215 , 23.74446671, 24.11878941, 27.40241209, 16.32993575,\n",
       "       13.39695213, 20.01655581, 19.86205904, 21.28604604, 24.07796482,\n",
       "       24.20603792, 25.04201534, 24.91709097, 29.93762975, 23.97709054,\n",
       "       21.69931969, 37.51051381, 43.29459357, 36.48121427, 34.99129701,\n",
       "       34.80865729, 37.16296374, 40.9823638 , 34.44211691, 35.83178068,\n",
       "       28.24913647, 31.22022312, 40.83256202, 39.31768808, 25.71099424,\n",
       "       22.30344878, 27.20551341, 28.51386352, 35.47494122, 36.11110647,\n",
       "       33.80004807, 35.61141951, 34.84311742, 30.35359323, 35.31260262,\n",
       "       38.79684808, 34.33296541, 40.34038636, 44.67339923, 31.5955473 ,\n",
       "       27.35994642, 20.09520596, 27.04518524, 27.21674397, 26.91105226,\n",
       "       33.43602979, 34.40228785, 31.83374181, 25.82416035, 24.43687139,\n",
       "       28.46348891, 27.36916176, 19.54441878, 29.11480679, 31.90852699,\n",
       "       30.77325183, 28.9430835 , 28.88108106, 32.79876794, 33.20356949,\n",
       "       30.76568546, 35.55843485, 32.70725436, 28.64759861, 23.59388439,\n",
       "       18.5461558 , 26.88429024, 23.28485442, 25.55002201, 25.48337323,\n",
       "       20.54343769, 17.61406384, 18.37627933, 24.29187594, 21.3257202 ,\n",
       "       24.88826131, 24.87143049, 22.87255605, 19.4540234 , 25.11948741,\n",
       "       24.66816374, 23.68209656, 19.33951725, 21.17636041, 24.25306588,\n",
       "       21.59311197, 19.98766667, 23.34079584, 22.13973959, 21.55349196,\n",
       "       20.61808868, 20.1607571 , 19.28455466, 22.16593919, 21.24893735,\n",
       "       21.42985456, 30.32874523, 22.04915396, 27.70610125, 28.54595004,\n",
       "       16.54657063, 14.78278261, 25.27336772, 27.54088054, 22.14633467,\n",
       "       20.46081206, 20.54472332, 16.88194391, 25.40066956, 14.32299547,\n",
       "       16.5927403 , 19.63224597, 22.7117302 , 22.19946949, 19.1989151 ,\n",
       "       22.66091019, 18.92059374, 18.22715359, 20.22444386, 37.47946099,\n",
       "       14.29172583, 15.53697148, 10.82825817, 23.81134987, 32.64787163,\n",
       "       34.61163401, 24.94604102, 26.00259724,  6.12085728,  0.78021126,\n",
       "       25.311373  , 17.73465914, 20.22593282, 15.83834861, 16.83742401,\n",
       "       14.43123608, 18.47647773, 13.42427933, 13.05677824,  3.27646485,\n",
       "        8.05936467,  6.13903114,  5.62271213,  6.44935154, 14.20597451,\n",
       "       17.21022671, 17.29035065,  9.89064351, 20.21972222, 17.94511052,\n",
       "       20.30017588, 19.28790318, 16.33300008,  6.56843662, 10.87541577,\n",
       "       11.88704097, 17.81098929, 18.25461066, 12.99282707,  7.39319053,\n",
       "        8.25609561,  8.07899971, 19.98563715, 13.69651744, 19.83511412,\n",
       "       15.2345378 , 16.93112419,  1.69347406, 11.81116263, -4.28300934,\n",
       "        9.55007844, 13.32635521,  6.88351077,  6.16827417, 14.56933235,\n",
       "       19.59292932, 18.1151686 , 18.52011987, 13.13707457, 14.59662601,\n",
       "        9.8923749 , 16.31998048, 14.06750301, 14.22573568, 13.00752251,\n",
       "       18.13277547, 18.66645496, 21.50283795, 17.00039379, 15.93926602,\n",
       "       13.32952716, 14.48949211,  8.78366731,  4.8300317 , 13.06115528,\n",
       "       12.71101472, 17.2887624 , 18.73424906, 18.05271013, 11.49855612,\n",
       "       13.00841512, 17.66975577, 18.12342294, 17.51503231, 17.21307203,\n",
       "       16.48238543, 19.40079737, 18.57392951, 22.47833186, 15.24179836,\n",
       "       15.78327609, 12.64853778, 12.84121049, 17.17173661, 18.50906858,\n",
       "       19.02803874, 20.16441773, 19.76975335, 22.42614937, 20.31750314,\n",
       "       17.87618837, 14.3391341 , 16.93715603, 16.98716629, 18.59431701,\n",
       "       20.16395155, 22.97743546, 22.45110639, 25.5707207 , 16.39091112,\n",
       "       16.09765427, 20.52835689, 11.5429045 , 19.20387482, 21.86820603,\n",
       "       23.47052203, 27.10034494, 28.57064813, 21.0839881 , 19.4490529 ,\n",
       "       22.2189221 , 19.65423066, 21.324671  , 11.86231364,  8.22260592,\n",
       "        3.65825168, 13.76275951, 15.93780944, 20.62730097, 20.61035443,\n",
       "       16.88048035, 14.01017244, 19.10825534, 21.29720741, 18.45524217,\n",
       "       20.46764235, 23.53261729, 22.37869798, 27.62934247, 26.12983844,\n",
       "       22.34870269])"
      ]
     },
     "execution_count": 33,
     "metadata": {},
     "output_type": "execute_result"
    }
   ],
   "source": [
    "regr.predict(X)"
   ]
  },
  {
   "cell_type": "code",
   "execution_count": 34,
   "metadata": {},
   "outputs": [
    {
     "data": {
      "image/png": "[encoded data removed]",
      "text/plain": [
       "<Figure size 432x288 with 1 Axes>"
      ]
     },
     "metadata": {},
     "output_type": "display_data"
    }
   ],
   "source": [
    "plt.scatter(df.PRICE, regr.predict(X))\n",
    "plt.xlabel('Preço original')\n",
    "plt.ylabel('Preço previsto')\n",
    "plt.title('Preço Original vs Preço Previsto')\n",
    "plt.show()"
   ]
  },
  {
   "cell_type": "code",
   "execution_count": 35,
   "metadata": {},
   "outputs": [
    {
     "name": "stdout",
     "output_type": "stream",
     "text": [
      "21.897779217687496\n"
     ]
    }
   ],
   "source": [
    "# Calcular MSE\n",
    "mse  = np.mean((df.PRICE - regr.predict(X))**2)\n",
    "print(mse)"
   ]
  },
  {
   "cell_type": "code",
   "execution_count": 36,
   "metadata": {},
   "outputs": [
    {
     "data": {
      "text/plain": [
       "62.65220001376927"
      ]
     },
     "execution_count": 36,
     "metadata": {},
     "output_type": "execute_result"
    }
   ],
   "source": [
    "#df.head()\n",
    "r2 = LinearRegression()\n",
    "r2.fit(X[['PTRATIO']], df.PRICE)\n",
    "\n",
    "np.mean((df.PRICE - r2.predict(X[['PTRATIO']]))**2)"
   ]
  },
  {
   "cell_type": "code",
   "execution_count": 46,
   "metadata": {},
   "outputs": [],
   "source": [
    "from sklearn.model_selection import train_test_split\n",
    "# geralmente dividide 30 % para teste e 70 para treino\n",
    "x_treino, x_teste, y_treino, y_teste = train_test_split(X , df.PRICE, test_size=0.30,random_state=5)\n"
   ]
  },
  {
   "cell_type": "code",
   "execution_count": 47,
   "metadata": {},
   "outputs": [
    {
     "name": "stdout",
     "output_type": "stream",
     "text": [
      "(354, 13) (152, 13) (354,) (152,)\n"
     ]
    }
   ],
   "source": [
    "print(x_treino.shape, x_teste.shape, y_treino.shape, y_teste.shape)"
   ]
  },
  {
   "cell_type": "code",
   "execution_count": 48,
   "metadata": {},
   "outputs": [],
   "source": [
    "regr = LinearRegression()\n"
   ]
  },
  {
   "cell_type": "code",
   "execution_count": 49,
   "metadata": {},
   "outputs": [
    {
     "data": {
      "text/plain": [
       "LinearRegression(copy_X=True, fit_intercept=True, n_jobs=1, normalize=False)"
      ]
     },
     "execution_count": 49,
     "metadata": {},
     "output_type": "execute_result"
    }
   ],
   "source": [
    "regr.fit(x_treino, y_treino)"
   ]
  },
  {
   "cell_type": "code",
   "execution_count": 50,
   "metadata": {},
   "outputs": [],
   "source": [
    "pre_treino = regr.predict(x_treino)\n",
    "pre_teste = regr.predict(x_teste)"
   ]
  },
  {
   "cell_type": "code",
   "execution_count": 53,
   "metadata": {},
   "outputs": [
    {
     "data": {
      "image/png": "[encoded data removed]",
      "text/plain": [
       "<Figure size 432x288 with 1 Axes>"
      ]
     },
     "metadata": {},
     "output_type": "display_data"
    }
   ],
   "source": [
    "plt.scatter(regr.predict(x_treino), regr.predict(x_treino) - y_treino, c='b', s=40, alpha=0.5)\n",
    "plt.scatter(regr.predict(x_teste), regr.predict(x_teste) - y_teste, c='g', s=40, alpha=0.5)\n",
    "plt.hlines(y=0, xmin=0, xmax=50)\n",
    "plt.title('Residual Plot de treino(Azul), Teste(Verde)')\n",
    "plt.show()"
   ]
  },
  {
   "cell_type": "code",
   "execution_count": null,
   "metadata": {},
   "outputs": [],
   "source": []
  }
 ],
 "metadata": {
  "kernelspec": {
   "display_name": "Python 3",
   "language": "python",
   "name": "python3"
  },
  "language_info": {
   "codemirror_mode": {
    "name": "ipython",
    "version": 3
   },
   "file_extension": ".py",
   "mimetype": "text/x-python",
   "name": "python",
   "nbconvert_exporter": "python",
   "pygments_lexer": "ipython3",
   "version": "3.6.5"
  }
 },
 "nbformat": 4,
 "nbformat_minor": 2
}
