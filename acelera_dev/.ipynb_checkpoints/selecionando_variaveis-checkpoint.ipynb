{
 "cells": [
  {
   "cell_type": "code",
   "execution_count": 1,
   "metadata": {},
   "outputs": [],
   "source": [
    "import sklearn\n",
    "import pandas as pd\n",
    "import matplotlib.pyplot as plt\n",
    "import numpy as np\n",
    "import scipy.stats as stats\n",
    "%matplotlib inline\n",
    "from sklearn.linear_model import LinearRegression\n",
    "from sklearn.model_selection import train_test_split\n",
    "regr = LinearRegression()"
   ]
  },
  {
   "cell_type": "code",
   "execution_count": 2,
   "metadata": {},
   "outputs": [],
   "source": [
    "df_train = pd.read_csv('train.csv')\n",
    "df_train = df_train.dropna(0)\n",
    "x = df_train[['NU_NOTA_CN', 'NU_NOTA_CH', 'NU_NOTA_LC']]\n",
    "y = df_train.NU_NOTA_MT\n",
    "assert(len(x) == len(y))"
   ]
  },
  {
   "cell_type": "code",
   "execution_count": 6,
   "metadata": {},
   "outputs": [],
   "source": [
    "l_lc = 'Nota da prova de Linguagens e Códigos'\n",
    "l_cn = 'Nota da prova de Ciências da Natureza'\n",
    "l_ch = 'Nota da prova de Ciências Humanas'"
   ]
  },
  {
   "cell_type": "code",
   "execution_count": 3,
   "metadata": {},
   "outputs": [
    {
     "name": "stdout",
     "output_type": "stream",
     "text": [
      "4557.107901430968\n"
     ]
    }
   ],
   "source": [
    "# todas as notas\n",
    "regr = LinearRegression()\n",
    "regr.fit(x, y)\n",
    "mse  = np.mean((y - regr.predict(x))**2)\n",
    "print(mse)"
   ]
  },
  {
   "cell_type": "code",
   "execution_count": 4,
   "metadata": {},
   "outputs": [
    {
     "data": {
      "text/plain": [
       "4798.617256272561"
      ]
     },
     "execution_count": 4,
     "metadata": {},
     "output_type": "execute_result"
    }
   ],
   "source": [
    "# Treino com Nota da prova de Linguagens e Códigos\n",
    "regr_lc = LinearRegression()\n",
    "regr_lc.fit(x[['NU_NOTA_LC']], y)\n",
    "np.mean((y - regr_lc.predict(x[['NU_NOTA_LC']]))**2)"
   ]
  },
  {
   "cell_type": "code",
   "execution_count": 5,
   "metadata": {},
   "outputs": [
    {
     "data": {
      "text/plain": [
       "4758.517005892204"
      ]
     },
     "execution_count": 5,
     "metadata": {},
     "output_type": "execute_result"
    }
   ],
   "source": [
    "# Treino com Nota da prova de Ciências da Natureza'\n",
    "regr_lc = LinearRegression()\n",
    "regr_lc.fit(x[['NU_NOTA_CN']], y)\n",
    "np.mean((y - regr_lc.predict(x[['NU_NOTA_CN']]))**2)"
   ]
  },
  {
   "cell_type": "code",
   "execution_count": 7,
   "metadata": {},
   "outputs": [
    {
     "data": {
      "text/plain": [
       "5084.2278794228105"
      ]
     },
     "execution_count": 7,
     "metadata": {},
     "output_type": "execute_result"
    }
   ],
   "source": [
    "# Treino com Nota da prova de Ciências Humanas\n",
    "regr_lc = LinearRegression()\n",
    "regr_lc.fit(x[['NU_NOTA_CH']], y)\n",
    "np.mean((y - regr_lc.predict(x[['NU_NOTA_CH']]))**2)"
   ]
  },
  {
   "cell_type": "code",
   "execution_count": 9,
   "metadata": {},
   "outputs": [
    {
     "data": {
      "text/plain": [
       "4557.525718057588"
      ]
     },
     "execution_count": 9,
     "metadata": {},
     "output_type": "execute_result"
    }
   ],
   "source": [
    "regr_lc = LinearRegression()\n",
    "regr_lc.fit(x[['NU_NOTA_CN', 'NU_NOTA_LC']], y)\n",
    "np.mean((y - regr_lc.predict(x[['NU_NOTA_CN', 'NU_NOTA_LC']]))**2)"
   ]
  },
  {
   "cell_type": "code",
   "execution_count": 10,
   "metadata": {},
   "outputs": [],
   "source": [
    "from sklearn.model_selection import train_test_split\n",
    "# geralmente dividide 30 % para teste e 70 para treino\n",
    "x_treino, x_teste, y_treino, y_teste = train_test_split(x , y, test_size=0.30,random_state=5)\n"
   ]
  },
  {
   "cell_type": "code",
   "execution_count": 11,
   "metadata": {},
   "outputs": [
    {
     "name": "stdout",
     "output_type": "stream",
     "text": [
      "(44, 3) (20, 3) (44,) (20,)\n"
     ]
    }
   ],
   "source": [
    "print(x_treino.shape, x_teste.shape, y_treino.shape, y_teste.shape)"
   ]
  },
  {
   "cell_type": "code",
   "execution_count": 12,
   "metadata": {},
   "outputs": [],
   "source": [
    "regr = LinearRegression()\n",
    "regr.fit(x_treino, y_treino)\n",
    "pre_treino = regr.predict(x_treino)\n",
    "pre_teste = regr.predict(x_teste)"
   ]
  },
  {
   "cell_type": "code",
   "execution_count": 13,
   "metadata": {},
   "outputs": [
    {
     "data": {
      "image/png": "[encoded data removed]",
      "text/plain": [
       "<Figure size 432x288 with 1 Axes>"
      ]
     },
     "metadata": {},
     "output_type": "display_data"
    }
   ],
   "source": [
    "plt.scatter(regr.predict(x_treino), regr.predict(x_treino) - y_treino, c='b', s=40, alpha=0.5)\n",
    "plt.scatter(regr.predict(x_teste), regr.predict(x_teste) - y_teste, c='g', s=40, alpha=0.5)\n",
    "plt.hlines(y=0, xmin=0, xmax=50)\n",
    "plt.title('Residual Plot de treino(Azul), Teste(Verde)')\n",
    "plt.show()"
   ]
  },
  {
   "cell_type": "code",
   "execution_count": 14,
   "metadata": {},
   "outputs": [
    {
     "data": {
      "text/plain": [
       "4913.803103992036"
      ]
     },
     "execution_count": 14,
     "metadata": {},
     "output_type": "execute_result"
    }
   ],
   "source": [
    "r_treino = LinearRegression()\n",
    "r_treino.fit(x_treino, y_treino)\n",
    "np.mean((y_treino - r_treino.predict(x_treino))**2)\n"
   ]
  },
  {
   "cell_type": "code",
   "execution_count": null,
   "metadata": {},
   "outputs": [],
   "source": []
  }
 ],
 "metadata": {
  "kernelspec": {
   "display_name": "Python 3",
   "language": "python",
   "name": "python3"
  },
  "language_info": {
   "codemirror_mode": {
    "name": "ipython",
    "version": 3
   },
   "file_extension": ".py",
   "mimetype": "text/x-python",
   "name": "python",
   "nbconvert_exporter": "python",
   "pygments_lexer": "ipython3",
   "version": "3.6.5"
  }
 },
 "nbformat": 4,
 "nbformat_minor": 2
}
