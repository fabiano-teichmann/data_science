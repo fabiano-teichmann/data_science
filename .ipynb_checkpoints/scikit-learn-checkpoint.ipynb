{
 "cells": [
  {
   "cell_type": "code",
   "execution_count": 1,
   "metadata": {},
   "outputs": [],
   "source": [
    "from sklearn import datasets\n",
    "iris = datasets.load_iris()\n",
    "digits = datasets.load_digits()"
   ]
  },
  {
   "cell_type": "markdown",
   "metadata": {},
   "source": [
    "### Prever preço de pizza\n"
   ]
  },
  {
   "cell_type": "code",
   "execution_count": 3,
   "metadata": {},
   "outputs": [],
   "source": [
    "import matplotlib.pyplot as plt\n",
    "import numpy as np\n",
    "\n",
    "%matplotlib inline"
   ]
  },
  {
   "cell_type": "code",
   "execution_count": 4,
   "metadata": {},
   "outputs": [],
   "source": [
    "d = [[7], [10], [15], [30], [45]]\n",
    "p = [[8], [11], [16], [38.5], [52]]"
   ]
  },
  {
   "cell_type": "code",
   "execution_count": 12,
   "metadata": {},
   "outputs": [
    {
     "data": {
      "image/png": "[encoded data removed]",
      "text/plain": [
       "<Figure size 432x288 with 1 Axes>"
      ]
     },
     "metadata": {},
     "output_type": "display_data"
    }
   ],
   "source": [
    "d1 = [[7], [10], [15], [30], [45]]\n",
    "p2 = [[25], [35], [42], [50], [60]]\n",
    "plt.figure()\n",
    "plt.xlabel('Diametro pizza')\n",
    "plt.ylabel('Preço pizza')\n",
    "plt.title('Preço x Diamemetro')\n",
    "plt.plot(d1, p2)\n",
    "plt.axis([0, 80, 0, 80])\n",
    "plt.grid()\n",
    "plt.show()"
   ]
  },
  {
   "cell_type": "markdown",
   "metadata": {},
   "source": [
    "### Analise Exploratória dos dados que tenho disponivel \n",
    "eu preciso ter uma compreensão dos dados que eu tenho disponível para compreender como os dados estão expostos \n"
   ]
  },
  {
   "cell_type": "code",
   "execution_count": 8,
   "metadata": {},
   "outputs": [
    {
     "data": {
      "image/png": "[encoded data removed]",
      "text/plain": [
       "<Figure size 432x288 with 1 Axes>"
      ]
     },
     "metadata": {},
     "output_type": "display_data"
    }
   ],
   "source": [
    "plt.figure()\n",
    "plt.xlabel('Diametro pizza')\n",
    "plt.ylabel('Preço pizza')\n",
    "plt.title('Preço x Diamemetro')\n",
    "plt.plot(d, p, 'k.')\n",
    "plt.axis([0, 60, 0, 60])\n",
    "plt.grid()\n",
    "plt.show()"
   ]
  },
  {
   "cell_type": "code",
   "execution_count": 13,
   "metadata": {},
   "outputs": [],
   "source": [
    "from sklearn.linear_model import LinearRegression\n"
   ]
  },
  {
   "cell_type": "code",
   "execution_count": 14,
   "metadata": {},
   "outputs": [],
   "source": [
    "x = [[7], [10], [15], [30], [45]]\n",
    "y = [[8], [11], [16], [38.5], [52]]"
   ]
  },
  {
   "cell_type": "code",
   "execution_count": 15,
   "metadata": {},
   "outputs": [],
   "source": [
    "model = LinearRegression()"
   ]
  },
  {
   "cell_type": "code",
   "execution_count": 16,
   "metadata": {},
   "outputs": [
    {
     "data": {
      "text/plain": [
       "sklearn.linear_model.base.LinearRegression"
      ]
     },
     "execution_count": 16,
     "metadata": {},
     "output_type": "execute_result"
    }
   ],
   "source": [
    "type(model)"
   ]
  },
  {
   "cell_type": "code",
   "execution_count": 48,
   "metadata": {},
   "outputs": [
    {
     "data": {
      "text/plain": [
       "LinearRegression(copy_X=True, fit_intercept=True, n_jobs=1, normalize=False)"
      ]
     },
     "execution_count": 48,
     "metadata": {},
     "output_type": "execute_result"
    }
   ],
   "source": [
    "model.fit(x, y)"
   ]
  },
  {
   "cell_type": "code",
   "execution_count": 45,
   "metadata": {},
   "outputs": [],
   "source": [
    "d = [[7], [10], [15], [30], [45]]\n",
    "p = [[25], [35], [42], [50], [60]]"
   ]
  },
  {
   "cell_type": "code",
   "execution_count": 37,
   "metadata": {},
   "outputs": [],
   "source": [
    "pr = model.predict([20][0])"
   ]
  },
  {
   "cell_type": "code",
   "execution_count": 38,
   "metadata": {},
   "outputs": [
    {
     "name": "stdout",
     "output_type": "stream",
     "text": [
      "Coeficiente [[1.20422117]]\n",
      "Mean SQUARE ERROR (MSE)2.7420035671819223\n",
      "score de variação 0.9907189156269228\n"
     ]
    }
   ],
   "source": [
    "# Coeficiente\n",
    "print(f'Coeficiente {model.coef_}')\n",
    "# Mean\n",
    "print(f'Mean SQUARE ERROR (MSE){np.mean((model.predict(x)- y)**2)}')\n",
    "print(f'score de variação {model.score(x, y)}')"
   ]
  },
  {
   "cell_type": "code",
   "execution_count": 46,
   "metadata": {},
   "outputs": [
    {
     "name": "stdout",
     "output_type": "stream",
     "text": [
      "Predição pizza 20 centimetros [[41.26496235]]\n",
      "Coeficiente [[0.81074118]]\n",
      "Mean SQUARE ERROR (MSE)12.370313119302407\n",
      "score de variação 0.9147110237224048\n"
     ]
    }
   ],
   "source": [
    "model.fit(d, p)\n",
    "print(f'Predição pizza 20 centimetros { model.predict([20][0])}')\n",
    "# Coeficiente\n",
    "print(f'Coeficiente {model.coef_}')\n",
    "# Mean\n",
    "print(f'Mean SQUARE ERROR (MSE){np.mean((model.predict(d)- p)**2)}')\n",
    "print(f'score de variação {model.score(d, p)}')\n"
   ]
  },
  {
   "cell_type": "code",
   "execution_count": 49,
   "metadata": {},
   "outputs": [
    {
     "data": {
      "image/png": "[encoded data removed]",
      "text/plain": [
       "<Figure size 432x288 with 1 Axes>"
      ]
     },
     "metadata": {},
     "output_type": "display_data"
    }
   ],
   "source": [
    "# scatter plot\n",
    "plt.scatter(x, y, color='Black')\n",
    "plt.plot(x, model.predict(y), color='Blue', linewidth=3)\n",
    "plt.xlabel('Diamentro')\n",
    "plt.ylabel('Preço')\n",
    "plt.xticks(())\n",
    "plt.yticks(())\n",
    "plt.show()"
   ]
  },
  {
   "cell_type": "code",
   "execution_count": null,
   "metadata": {},
   "outputs": [],
   "source": []
  }
 ],
 "metadata": {
  "kernelspec": {
   "display_name": "Python 3",
   "language": "python",
   "name": "python3"
  },
  "language_info": {
   "codemirror_mode": {
    "name": "ipython",
    "version": 3
   },
   "file_extension": ".py",
   "mimetype": "text/x-python",
   "name": "python",
   "nbconvert_exporter": "python",
   "pygments_lexer": "ipython3",
   "version": "3.6.5"
  }
 },
 "nbformat": 4,
 "nbformat_minor": 2
}
